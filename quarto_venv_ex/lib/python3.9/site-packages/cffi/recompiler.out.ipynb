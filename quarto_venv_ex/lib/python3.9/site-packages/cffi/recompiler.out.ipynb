{
 "cells": [
  {
   "cell_type": "markdown",
   "metadata": {},
   "source": [
    "#"
   ],
   "id": "3ecc57fc-e06a-4cd0-94e3-56ec6edf3496"
  }
 ],
 "nbformat": 4,
 "nbformat_minor": 5,
 "metadata": {}
}
